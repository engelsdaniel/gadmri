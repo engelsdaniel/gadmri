{
 "cells": [
  {
   "cell_type": "code",
   "execution_count": 7,
   "metadata": {},
   "outputs": [],
   "source": [
    "import pandas as pd\n",
    "import numpy as np\n",
    "import scipy.stats as stats\n",
    "import statsmodels.api as sm\n",
    "\n",
    "df = pd.read_excel('raw/MRI_MASTER aktualisiert 020323_de.xlsx')\n",
    "df = df.drop(columns='CerebralWhiteMatter') # exclude white matter\n",
    "\n",
    "features = df. columns[8:]\n",
    "\n",
    "res = pd.DataFrame(index=features)\n",
    "\n",
    "for feature in features:\n",
    "    a = df.loc[df.group == 'GAD', feature]\n",
    "    b = df.loc[df.group == 'HC', feature]\n",
    "    \n",
    "    p = stats.ttest_ind(a, b).pvalue\n",
    "    \n",
    "    cohens_d = (np.mean(a) - np.mean(b)) / (np.sqrt((np.std(a) ** 2 + np.std(b) ** 2) / 2))\n",
    "    \n",
    "    res.loc[res.index==feature, 'mean_hc'] = np.mean(b)\n",
    "    res.loc[res.index==feature, 'sd_hc'] = np.std(b)\n",
    "    res.loc[res.index==feature, 'mean_gad'] = np.mean(a)\n",
    "    res.loc[res.index==feature, 'sd_gad'] = np.std(a)\n",
    "    res.loc[res.index==feature, 'p_gad_hc'] = p\n",
    "    res.loc[res.index==feature, 'cohensd_gad_hc'] = cohens_d\n",
    "    \n",
    "    for subgroup in df.subgroup.unique():\n",
    "        subset = df.loc[df.subgroup==subgroup, :]\n",
    "        \n",
    "        a = subset.loc[subset.group == 'GAD', feature]\n",
    "        b = subset.loc[subset.group == 'HC', feature]\n",
    "        \n",
    "        p = stats.ttest_ind(a, b).pvalue\n",
    "        \n",
    "        cohens_d = (np.mean(a) - np.mean(b)) / (np.sqrt((np.std(a) ** 2 + np.std(b) ** 2) / 2))\n",
    "        \n",
    "        res.loc[res.index==feature, f'{subgroup}_mean_hc'] = np.mean(b)\n",
    "        res.loc[res.index==feature, f'{subgroup}_sd_hc'] = np.std(b)\n",
    "        res.loc[res.index==feature, f'{subgroup}_mean_gad'] = np.mean(a)\n",
    "        res.loc[res.index==feature, f'{subgroup}_sd_gad'] = np.std(a)\n",
    "        res.loc[res.index==feature, f'{subgroup}_p_gad_hc'] = p\n",
    "        res.loc[res.index==feature, f'{subgroup}_p_gad_hc_sig'] = 1 if p < 0.05 else 0\n",
    "        res.loc[res.index==feature, f'{subgroup}_cohensd_gad_hc'] = cohens_d\n",
    "\n",
    "# adjust p vals\n",
    "p_adj = sm.stats.multipletests(res.p_gad_hc, method='bonferroni')[1]\n",
    "res.insert(5, 'p_gad_hc_bonferroni', p_adj)\n",
    "\n",
    "for subgroup in df.subgroup.unique():\n",
    "    pvals = res[f'{subgroup}_p_gad_hc']\n",
    "    pvalsadj = sm.stats.multipletests(pvals, method='bonferroni')[1]\n",
    "    res[f'{subgroup}_p_gad_hc_adj'] = pvalsadj\n",
    "\n",
    "res = res.sort_values(by='cohensd_gad_hc')\n",
    "\n",
    "res.to_excel('out/pro_gadmri_results.xlsx')"
   ]
  }
 ],
 "metadata": {
  "kernelspec": {
   "display_name": "de",
   "language": "python",
   "name": "python3"
  },
  "language_info": {
   "codemirror_mode": {
    "name": "ipython",
    "version": 3
   },
   "file_extension": ".py",
   "mimetype": "text/x-python",
   "name": "python",
   "nbconvert_exporter": "python",
   "pygments_lexer": "ipython3",
   "version": "3.8.5"
  },
  "orig_nbformat": 4,
  "vscode": {
   "interpreter": {
    "hash": "683ea144463aeddd38f0ad6490ffd63cf547c1c0ec348406c5698bebb77c56b0"
   }
  }
 },
 "nbformat": 4,
 "nbformat_minor": 2
}
